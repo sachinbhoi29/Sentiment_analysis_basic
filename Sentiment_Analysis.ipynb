{
 "cells": [
  {
   "cell_type": "code",
   "execution_count": 1,
   "metadata": {},
   "outputs": [],
   "source": [
    "import nltk\n",
    "from nltk.sentiment.vader import SentimentIntensityAnalyzer "
   ]
  },
  {
   "cell_type": "code",
   "execution_count": 10,
   "metadata": {},
   "outputs": [],
   "source": [
    "hotel_rev = ['Great place to be when you are in Bangalore.',\n",
    "             'The place was being renovated when I visited so the seating was limited.',\n",
    "             'Loved the ambience, loved the food','The food is delicious but not over the top.',\n",
    "             'Service - Little slow, probably because too many people.',\n",
    "             'The place is not easy to locate”,“Mushroom fried rice was tasty',\n",
    "             \"He is not a bad guy\"]"
   ]
  },
  {
   "cell_type": "code",
   "execution_count": 11,
   "metadata": {},
   "outputs": [
    {
     "name": "stdout",
     "output_type": "stream",
     "text": [
      "Great place to be when you are in Bangalore.\n",
      "neg: 0.0, neu: 0.661, pos: 0.339, compound: 0.6249, \n",
      "The place was being renovated when I visited so the seating was limited.\n",
      "neg: 0.147, neu: 0.853, pos: 0.0, compound: -0.2263, \n",
      "Loved the ambience, loved the food\n",
      "neg: 0.0, neu: 0.339, pos: 0.661, compound: 0.8316, \n",
      "The food is delicious but not over the top.\n",
      "neg: 0.168, neu: 0.623, pos: 0.209, compound: 0.1184, \n",
      "Service - Little slow, probably because too many people.\n",
      "neg: 0.0, neu: 1.0, pos: 0.0, compound: 0.0, \n",
      "The place is not easy to locate”,“Mushroom fried rice was tasty\n",
      "neg: 0.194, neu: 0.806, pos: 0.0, compound: -0.3412, \n",
      "He is not a bad guy\n",
      "neg: 0.0, neu: 0.584, pos: 0.416, compound: 0.431, \n"
     ]
    },
    {
     "name": "stderr",
     "output_type": "stream",
     "text": [
      "[nltk_data] Downloading package vader_lexicon to\n",
      "[nltk_data]     C:\\Users\\sachi\\AppData\\Roaming\\nltk_data...\n",
      "[nltk_data]   Package vader_lexicon is already up-to-date!\n"
     ]
    }
   ],
   "source": [
    "nltk.downloader.download('vader_lexicon')\n",
    "sid = SentimentIntensityAnalyzer()\n",
    "\n",
    "for sentence in hotel_rev:\n",
    "    print(sentence)\n",
    "    ss = sid.polarity_scores(sentence)\n",
    "    for k in ss:\n",
    "         print('{0}: {1}, '.format(k, ss[k]), end='')\n",
    "    print()\n"
   ]
  },
  {
   "cell_type": "code",
   "execution_count": 12,
   "metadata": {},
   "outputs": [],
   "source": [
    "tricky_sentences = [\n",
    "    \"Most automated sentiment analysis tools are shit.\",\n",
    "    \"VADER sentiment analysis is the shit.\",\n",
    "    \"Sentiment analysis has never been good.\",\n",
    "    \"Sentiment analysis with VADER has never been this good.\",\n",
    "    \"Warren Beatty has never been so entertaining.\",\n",
    "    \"I won't say that the movie is astounding and I wouldn't claim that \\\n",
    "    the movie is too banal either.\",\n",
    "    \"I like to hate Michael Bay films, but I couldn't fault this one\",\n",
    "    \"It's one thing to watch an Uwe Boll film, but another thing entirely \\\n",
    "    to pay for it\",\n",
    "    \"The movie was too good\",\n",
    "    \"This movie was actually neither that funny, nor super witty.\",\n",
    "    \"This movie doesn't care about cleverness, wit or any other kind of \\\n",
    "    intelligent humor.\",\n",
    "    \"Those who find ugly meanings in beautiful things are corrupt without \\\n",
    "    being charming.\",\n",
    "    \"There are slow and repetitive parts, BUT it has just enough spice to \\\n",
    "    keep it interesting.\",\n",
    "    \"The script is not fantastic, but the acting is decent and the cinematography \\\n",
    "    is EXCELLENT!\",\n",
    "    \"Roger Dodger is one of the most compelling variations on this theme.\",\n",
    "    \"Roger Dodger is one of the least compelling variations on this theme.\",\n",
    "    \"Roger Dodger is at least compelling as a variation on the theme.\",\n",
    "    \"they fall in love with the product\",\n",
    "    \"but then it breaks\",\n",
    "    \"usually around the time the 90 day warranty expires\",\n",
    "    \"the twin towers collapsed today\",\n",
    "    \"However, Mr. Carter solemnly argues, his client carried out the kidnapping \\\n",
    "    under orders and in the ''least offensive way possible.''\"\n",
    " ]"
   ]
  },
  {
   "cell_type": "code",
   "execution_count": 13,
   "metadata": {},
   "outputs": [
    {
     "name": "stdout",
     "output_type": "stream",
     "text": [
      "Most automated sentiment analysis tools are shit.\n",
      "neg: 0.375, neu: 0.625, pos: 0.0, compound: -0.5574, \n",
      "VADER sentiment analysis is the shit.\n",
      "neg: 0.0, neu: 0.556, pos: 0.444, compound: 0.6124, \n",
      "Sentiment analysis has never been good.\n",
      "neg: 0.325, neu: 0.675, pos: 0.0, compound: -0.3412, \n",
      "Sentiment analysis with VADER has never been this good.\n",
      "neg: 0.0, neu: 0.703, pos: 0.297, compound: 0.5228, \n",
      "Warren Beatty has never been so entertaining.\n",
      "neg: 0.0, neu: 0.616, pos: 0.384, compound: 0.5777, \n",
      "I won't say that the movie is astounding and I wouldn't claim that     the movie is too banal either.\n",
      "neg: 0.0, neu: 0.851, pos: 0.149, compound: 0.4215, \n",
      "I like to hate Michael Bay films, but I couldn't fault this one\n",
      "neg: 0.157, neu: 0.534, pos: 0.309, compound: 0.3153, \n",
      "It's one thing to watch an Uwe Boll film, but another thing entirely     to pay for it\n",
      "neg: 0.112, neu: 0.888, pos: 0.0, compound: -0.2541, \n",
      "The movie was too good\n",
      "neg: 0.0, neu: 0.58, pos: 0.42, compound: 0.4404, \n",
      "This movie was actually neither that funny, nor super witty.\n",
      "neg: 0.41, neu: 0.59, pos: 0.0, compound: -0.6759, \n",
      "This movie doesn't care about cleverness, wit or any other kind of     intelligent humor.\n",
      "neg: 0.265, neu: 0.497, pos: 0.239, compound: -0.1338, \n",
      "Those who find ugly meanings in beautiful things are corrupt without     being charming.\n",
      "neg: 0.314, neu: 0.493, pos: 0.192, compound: -0.3553, \n",
      "There are slow and repetitive parts, BUT it has just enough spice to     keep it interesting.\n",
      "neg: 0.079, neu: 0.735, pos: 0.186, compound: 0.4678, \n",
      "The script is not fantastic, but the acting is decent and the cinematography     is EXCELLENT!\n",
      "neg: 0.092, neu: 0.607, pos: 0.301, compound: 0.7565, \n",
      "Roger Dodger is one of the most compelling variations on this theme.\n",
      "neg: 0.0, neu: 0.834, pos: 0.166, compound: 0.2944, \n",
      "Roger Dodger is one of the least compelling variations on this theme.\n",
      "neg: 0.132, neu: 0.868, pos: 0.0, compound: -0.1695, \n",
      "Roger Dodger is at least compelling as a variation on the theme.\n",
      "neg: 0.0, neu: 0.84, pos: 0.16, compound: 0.2263, \n",
      "they fall in love with the product\n",
      "neg: 0.0, neu: 0.588, pos: 0.412, compound: 0.6369, \n",
      "but then it breaks\n",
      "neg: 0.0, neu: 1.0, pos: 0.0, compound: 0.0, \n",
      "usually around the time the 90 day warranty expires\n",
      "neg: 0.0, neu: 1.0, pos: 0.0, compound: 0.0, \n",
      "the twin towers collapsed today\n",
      "neg: 0.344, neu: 0.656, pos: 0.0, compound: -0.2732, \n",
      "However, Mr. Carter solemnly argues, his client carried out the kidnapping     under orders and in the ''least offensive way possible.''\n",
      "neg: 0.23, neu: 0.697, pos: 0.074, compound: -0.5859, \n"
     ]
    }
   ],
   "source": [
    "for sentence in tricky_sentences:\n",
    "    print(sentence)\n",
    "    ss = sid.polarity_scores(sentence)\n",
    "    for k in ss:\n",
    "         print('{0}: {1}, '.format(k, ss[k]), end='')\n",
    "    print()"
   ]
  },
  {
   "cell_type": "code",
   "execution_count": null,
   "metadata": {},
   "outputs": [],
   "source": []
  }
 ],
 "metadata": {
  "kernelspec": {
   "display_name": "Python 3",
   "language": "python",
   "name": "python3"
  },
  "language_info": {
   "codemirror_mode": {
    "name": "ipython",
    "version": 3
   },
   "file_extension": ".py",
   "mimetype": "text/x-python",
   "name": "python",
   "nbconvert_exporter": "python",
   "pygments_lexer": "ipython3",
   "version": "3.8.5"
  }
 },
 "nbformat": 4,
 "nbformat_minor": 4
}
